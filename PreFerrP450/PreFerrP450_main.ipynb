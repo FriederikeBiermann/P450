{
 "cells": [
  {
   "cell_type": "markdown",
   "metadata": {},
   "source": [
    "# Produces Tables for different datasets and fill tables with content imported from fasta"
   ]
  },
  {
   "cell_type": "code",
   "execution_count": 1,
   "metadata": {
    "scrolled": true
   },
   "outputs": [
    {
     "name": "stdout",
     "output_type": "stream",
     "text": [
      "0     1\n",
      "1     1\n",
      "2     1\n",
      "3     1\n",
      "4     1\n",
      "     ..\n",
      "58    5\n",
      "59    5\n",
      "60    5\n",
      "61    5\n",
      "62    5\n",
      "Name: target, Length: 882, dtype: int64\n"
     ]
    }
   ],
   "source": [
    "#!/usr/bin/env python3\n",
    "# -*- coding: utf-8 -*-\n",
    "\"\"\"\n",
    "Created on Fri Jan 21 08:50:35 2022\n",
    "\n",
    "@author: friederike\n",
    "\"\"\"\n",
    "\n",
    "\n",
    "import pandas as pd\n",
    "from Bio import SeqIO\n",
    "from Bio.Seq import Seq\n",
    "import itertools\n",
    "import math\n",
    "import numpy as np\n",
    "#choose clusters from the sequence similarity network to use as classes of ferredoxins\n",
    "clusterlist =range(1,6)\n",
    "# fill in names of files here!\n",
    "foldername_set_input=\"Output\"\n",
    "foldernameinput=\"neighbouring=4_threshold=20/Alignment\"\n",
    "foldernameoutput=foldernameinput.split(\"/\")[0]+\"/\"+\"Output\"\n",
    "fragments=(\"begin\",\"sbr1\",\"sbr2\",\"core\",\"end\",\"fes1\",\"fes2\")\n",
    "filenamescomplete=[]\n",
    "include_parts=True\n",
    "include_sequence_motifs=False\n",
    "indicator=\"\"\n",
    "if include_parts==True:\n",
    "    indicator+=\"_include_parts_\"\n",
    "if include_sequence_motifs==False:\n",
    "    indicator+=\"_without_sequence_motifs_\"\n",
    "for cluster in clusterlist:\n",
    "    filenames_per_cluster=[]  \n",
    "    for fragment in fragments:\n",
    "        filename_input=foldernameinput+\"/whole_dataset_neighbouring_4_threshold_20_deduplicated_\"+str(cluster)+\" Alignment_consens_\"+fragment+\".fasta\"\n",
    "        filenames_per_cluster.append(filename_input)\n",
    "    filenamescomplete.append(filenames_per_cluster)\n",
    "filename_permutations=foldername_set_input+\"/permutations.txt\"\n",
    "fragments=(\"begin\",\"sbr1\",\"sbr2\",\"core\",\"end\",\"fes1\",\"fes2\")\n",
    "with open(filename_permutations, 'r') as file:\n",
    "    permutations = [line.rstrip('\\n') for line in file]\n",
    "\n",
    "def find_between( s, first, last ):\n",
    "    try:\n",
    "        start = s.index( first ) + len( first )\n",
    "        end = s.index( last, start )\n",
    "        return s[start:end]\n",
    "    except ValueError:\n",
    "        return \"\"\n",
    "def easysequence (sequence):\n",
    "    #creates a string out of the sequence file, that only states if AA is acidic (a), basic (b), polar (p), neutral/unpolar (n),aromatic (r),Cystein (s) or a Prolin (t)\n",
    "    seqstr=str(sequence)\n",
    "    seqlist=list(seqstr)\n",
    "    easylist=[]\n",
    "    for i in seqlist:\n",
    "        if i == 'E' or i== 'D':           \n",
    "            easylist=easylist+['a']\n",
    "        if i == 'K' or i=='R' or i=='H':      \n",
    "            easylist=easylist+['b']\n",
    "        if i == 'S' or i=='T' or i=='N' or i=='Q':\n",
    "            easylist=easylist+['p']\n",
    "        if i == 'F' or i=='Y' or i=='W':\n",
    "            easylist=easylist+['r']\n",
    "        if i == 'C':\n",
    "            easylist=easylist+['s']\n",
    "        if i == 'P':\n",
    "            easylist=easylist+['t']\n",
    "        if i == 'G' or i=='A' or i=='V' or i=='L' or i=='I' or i=='M':\n",
    "            easylist=easylist+['n']\n",
    "    seperator=''\n",
    "    easysequence=seperator.join(easylist)\n",
    "    return easysequence\n",
    "def calculate_charge(sequence):\n",
    "    AACharge = {\"C\":-.045,\"D\":-.999,  \"E\":-.998,\"H\":.091,\"K\":1,\"R\":1,\"Y\":-.001}\n",
    "    charge = -0.002\n",
    "    seqstr=str(sequence)\n",
    "    seqlist=list(seqstr)\n",
    "    for aa in seqlist:\n",
    "        if aa in AACharge:\n",
    "            charge += AACharge[aa]\n",
    "    return charge\n",
    "\n",
    "def merge_two_dicts(x, y):\n",
    "    z = x.copy()   # start with x's keys and values\n",
    "    z.update(y)    # modifies z with y's keys and values & returns None\n",
    "    return z        \n",
    "\n",
    "# creates tables\n",
    "tablep450n=pd.DataFrame()\n",
    "for counter,listfiles in enumerate(filenamescomplete):\n",
    "        table=pd.DataFrame()\n",
    "        for counter2, file in enumerate(listfiles):\n",
    "            tempframe=pd.DataFrame()\n",
    "            fragment=fragments[counter2]\n",
    "            easy_sequences=[]\n",
    "            aa_sequences=[]\n",
    "            for seq_record in SeqIO.parse(file, \"fasta\"):\n",
    "                seq_record.seq=Seq(str(seq_record.seq).replace('-', ''))\n",
    "                easy_sequences.append(easysequence(str(seq_record.seq)))\n",
    "                aa_sequences.append(seq_record.seq) \n",
    "            for index_sequence,easy_sequence in  enumerate(easy_sequences):       \n",
    "                new_row={}\n",
    "                #add \"motif\" features\n",
    "                if include_sequence_motifs==True:\n",
    "                    for motiv in permutations:\n",
    "                        #defines column of table where to add\n",
    "                        name=motiv+fragment\n",
    "                        new_row =merge_two_dicts(new_row,{name:easy_sequence.count(motiv)})\n",
    "                #add general features\n",
    "                acidic=fragment+\"acidic\"\n",
    "                new_row =merge_two_dicts(new_row,{acidic:(easy_sequence.count(\"a\")/len(easy_sequence)+1)})\n",
    "                acidic_absolute=fragment+\"acidic absolute\"\n",
    "                new_row =merge_two_dicts(new_row,{acidic_absolute:(easy_sequence.count(\"a\"))})\n",
    "                charge=fragment+\"charge\"\n",
    "                new_row =merge_two_dicts(new_row,{charge:calculate_charge(aa_sequences[index_sequence])})\n",
    "                basic=fragment+\"basic\"\n",
    "                basic_absolute=fragment+\"basic absolute\"\n",
    "                new_row =merge_two_dicts(new_row,{basic:(easy_sequence.count(\"b\")/len(easy_sequence)+1)})\n",
    "                new_row =merge_two_dicts(new_row,{basic_absolute:(easy_sequence.count(\"b\"))})\n",
    "                if include_parts==True:\n",
    "                    if fragment in fragments:\n",
    "                        how_many_parts=3\n",
    "                        each_part_length = math.ceil(len(easy_sequence)/how_many_parts)\n",
    "                        iterator = [iter(easy_sequence)] * each_part_length\n",
    "                        parts = list(itertools.zip_longest(*iterator, fillvalue='X'))\n",
    "                        for i in range (0,len(parts)):\n",
    "                                part=fragment+\"acidic\"+ str(i)\n",
    "                                par=parts[i]\n",
    "                                new_row =merge_two_dicts(new_row,{part:(par.count(\"a\")/(len(par)+1))})\n",
    "                                part=fragment+\"basic\"+ str(i)\n",
    "                                par=parts[i]\n",
    "                                new_row =merge_two_dicts(new_row,{part:(par.count(\"b\")/(len(par)+1))})\n",
    "                        if len(parts)<3:\n",
    "                            for dif in range ((len(parts)+1),4):\n",
    "                                part=fragment+\"acidic\"+ str(dif)\n",
    "                                new_row =merge_two_dicts(new_row,{part:0})\n",
    "                                part=fragment+\"basic\"+ str(dif)\n",
    "                                new_row =merge_two_dicts(new_row,{part:0})\n",
    "                tempframe = tempframe.append(new_row, ignore_index=True)\n",
    "            table=pd.concat((table,tempframe),axis=1)\n",
    "        table['target']=counter+1\n",
    "        tablep450n=pd.concat((tablep450n,table),axis=0)\n",
    "chargerows=[]\n",
    "acidicrows=[]\n",
    "basicrows=[]\n",
    "absacidicrows=[]\n",
    "absbasicrows=[]\n",
    "for fragment in fragments:\n",
    "    chargerows.append(str(fragment)+\"charge\")\n",
    "    acidicrows.append(str(fragment)+\"acidic\")\n",
    "    basicrows.append(str(fragment)+\"basic\")\n",
    "    absacidicrows.append(str(fragment)+\"acidic absolute\")\n",
    "    absbasicrows.append(str(fragment)+\"basic absolute\")\n",
    "print(tablep450n[\"target\"])\n",
    "tablep450n['complete charge']=tablep450n[chargerows].sum(axis=1)\n",
    "tablep450n['mean acidic']=tablep450n[acidicrows].mean(axis=1)  \n",
    "tablep450n['mean basic']=tablep450n[basicrows].mean(axis=1)  \n",
    "tablep450n['absolute acidic']=tablep450n[absacidicrows].sum(axis=1)  \n",
    "tablep450n['absolute basic']=tablep450n[absbasicrows].sum(axis=1)\n",
    "tablep450n = tablep450n.replace('nan', np.nan).fillna(0)\n",
    "tablep450n.to_csv(foldernameoutput+\"/\"+foldernameoutput.split(\"/\")[0]+\"_feature_matrix_without_duplicates_cluster_1-5_\"+indicator+\".csv\", index=False) "
   ]
  },
  {
   "cell_type": "markdown",
   "metadata": {},
   "source": [
    "# Machine learning "
   ]
  },
  {
   "cell_type": "code",
   "execution_count": 4,
   "metadata": {
    "scrolled": true
   },
   "outputs": [
    {
     "name": "stdout",
     "output_type": "stream",
     "text": [
      "Best Max depth: 19\n"
     ]
    },
    {
     "data": {
      "image/png": "[encoded data removed]",
      "text/plain": [
       "<Figure size 432x288 with 1 Axes>"
      ]
     },
     "metadata": {
      "needs_background": "light"
     },
     "output_type": "display_data"
    },
    {
     "name": "stdout",
     "output_type": "stream",
     "text": [
      "Best Minimum samples per leaf: 1\n"
     ]
    },
    {
     "data": {
      "image/png": "[encoded data removed]",
      "text/plain": [
       "<Figure size 432x288 with 1 Axes>"
      ]
     },
     "metadata": {
      "needs_background": "light"
     },
     "output_type": "display_data"
    },
    {
     "name": "stdout",
     "output_type": "stream",
     "text": [
      "              precision    recall  f1-score   support\n",
      "\n",
      "           1       1.00      0.98      0.99       193\n",
      "           2       0.95      0.97      0.96       107\n",
      "           3       0.93      0.99      0.96        70\n",
      "           4       0.97      0.88      0.92        33\n",
      "           5       1.00      0.97      0.99        38\n",
      "\n",
      "    accuracy                           0.97       441\n",
      "   macro avg       0.97      0.96      0.96       441\n",
      "weighted avg       0.97      0.97      0.97       441\n",
      "\n",
      " \n",
      "Tree Score: 0.8866213151927438\n",
      "Tree Balanced Accuracy Score: 0.8553630981632174\n",
      "Crossvalidation scores tree: [0.89 0.89 0.95 0.88 0.91]\n",
      " \n",
      "Forest Score: 0.9727891156462585\n",
      "Forest Balanced Accuracy Score: 0.9589209900800266\n",
      "Crossvalidation scores forest: [0.99 0.97 0.98 0.97 0.93]\n",
      " \n",
      "Extra tree score: 0.981859410430839\n",
      "Extra tree Balanced Accuracy Score: 0.9680904044307882\n",
      "Crossvalidation scores Extra tree: [0.98 0.98 0.98 0.98 0.96]\n"
     ]
    },
    {
     "name": "stderr",
     "output_type": "stream",
     "text": [
      "/home/friederike/anaconda3/envs/frida/lib/python3.9/site-packages/sklearn/utils/deprecation.py:87: FutureWarning: Function plot_confusion_matrix is deprecated; Function `plot_confusion_matrix` is deprecated in 1.0 and will be removed in 1.2. Use one of the class methods: ConfusionMatrixDisplay.from_predictions or ConfusionMatrixDisplay.from_estimator.\n",
      "  warnings.warn(msg, category=FutureWarning)\n"
     ]
    },
    {
     "data": {
      "image/png": "[encoded data removed]",
      "text/plain": [
       "<Figure size 432x288 with 2 Axes>"
      ]
     },
     "metadata": {
      "needs_background": "light"
     },
     "output_type": "display_data"
    },
    {
     "data": {
      "image/png": "[encoded data removed]",
      "text/plain": [
       "<Figure size 432x288 with 2 Axes>"
      ]
     },
     "metadata": {
      "needs_background": "light"
     },
     "output_type": "display_data"
    },
    {
     "data": {
      "text/plain": [
       "<Figure size 1080x576 with 0 Axes>"
      ]
     },
     "metadata": {},
     "output_type": "display_data"
    },
    {
     "name": "stderr",
     "output_type": "stream",
     "text": [
      "/home/friederike/anaconda3/envs/frida/lib/python3.9/site-packages/sklearn/utils/deprecation.py:87: FutureWarning: Function plot_confusion_matrix is deprecated; Function `plot_confusion_matrix` is deprecated in 1.0 and will be removed in 1.2. Use one of the class methods: ConfusionMatrixDisplay.from_predictions or ConfusionMatrixDisplay.from_estimator.\n",
      "  warnings.warn(msg, category=FutureWarning)\n"
     ]
    },
    {
     "data": {
      "image/png": "[encoded data removed]",
      "text/plain": [
       "<Figure size 432x288 with 2 Axes>"
      ]
     },
     "metadata": {
      "needs_background": "light"
     },
     "output_type": "display_data"
    },
    {
     "data": {
      "image/png": "[encoded data removed]",
      "text/plain": [
       "<Figure size 432x288 with 2 Axes>"
      ]
     },
     "metadata": {
      "needs_background": "light"
     },
     "output_type": "display_data"
    },
    {
     "data": {
      "text/plain": [
       "<Figure size 1080x576 with 0 Axes>"
      ]
     },
     "metadata": {},
     "output_type": "display_data"
    }
   ],
   "source": [
    "import pandas as pd\n",
    "import pickle\n",
    "import numpy as np\n",
    "from sklearn.metrics import multilabel_confusion_matrix\n",
    "from sklearn.model_selection import cross_val_score\n",
    "from sklearn.tree import DecisionTreeClassifier\n",
    "from sklearn.ensemble import RandomForestClassifier\n",
    "from imblearn.over_sampling import RandomOverSampler\n",
    "from sklearn.metrics import plot_confusion_matrix\n",
    "import matplotlib.pyplot as plt\n",
    "from sklearn.metrics import balanced_accuracy_score\n",
    "from sklearn.ensemble import ExtraTreesClassifier\n",
    "from sklearn.metrics import classification_report\n",
    "determine_best_minimum_number_of_leaf=True\n",
    "determine_best_maximum_depth_of_forest=True\n",
    "ros = RandomOverSampler(random_state=0)\n",
    "clusterlist =range(1,6)\n",
    "\n",
    "#define max depth of decision tree\n",
    "maximum_depth=15\n",
    "# fill in names of files here!\n",
    "pathcompletetable=\"neighbouring=4_threshold=20/Output/neighbouring=4_threshold=20_feature_matrix_without_duplicates_cluster_1-5__include_parts__without_sequence_motifs_.csv\"\n",
    "foldernameoutput=\"neighbouring=4_threshold=20/Output1-5/\"\n",
    "completetable=pd.read_csv(pathcompletetable)\n",
    "completetable = completetable.sample(frac = 1) \n",
    "\n",
    "# define target and features\n",
    "#if you want wo run this multiple times, enable the following line! (otherwise \"prediciton\"will be used as a feature)\n",
    "#completetable.drop(columns=['prediction'],inplace=True)\n",
    "x_data = completetable.loc[:, completetable.columns != 'target' ]\n",
    "y_data = completetable['target']\n",
    "\n",
    "# split into training and test set\n",
    "from sklearn.model_selection import train_test_split\n",
    "x_train, x_test, y_train, y_test = train_test_split(x_data, y_data ,test_size = 0.5, shuffle=True)\n",
    "\n",
    "#resample to balance \n",
    "x_train, y_train = ros.fit_resample(x_train, y_train)\n",
    "\n",
    "bestmaximum_depth=maximum_depth\n",
    "bestminleaf=1\n",
    "#determine best tree depth\n",
    "\n",
    "if determine_best_maximum_depth_of_forest==True:\n",
    "    balanced_accuracy_forest=0.5\n",
    "    depthdiagr=pd.DataFrame(columns=['Maximal depth of random forest', 'Balanced accuracy'])\n",
    "    for maximum_depth in range (10,20):\n",
    "        forest=RandomForestClassifier(max_depth=maximum_depth,min_samples_leaf=5,class_weight=\"balanced\")\n",
    "        forest = forest.fit(x_train,y_train)\n",
    "        test_predict_forest=forest.predict(x_test)\n",
    "        balanced_accuracy_forestnew=balanced_accuracy_score(y_test, test_predict_forest)\n",
    "        new_line={'Maximal depth of random forest':maximum_depth, 'Balanced accuracy':balanced_accuracy_forestnew}\n",
    "        depthdiagr=depthdiagr.append(new_line, ignore_index=True)\n",
    "        if balanced_accuracy_forestnew>balanced_accuracy_forest:\n",
    "            bestmaximum_depth=maximum_depth\n",
    "\n",
    "    print (\"Best Max depth:\", bestmaximum_depth) \n",
    "\n",
    "    #plot diagram of best maximum_depth\n",
    "    plt.plot('Maximal depth of random forest', 'Balanced accuracy', data=depthdiagr,color='black')\n",
    "    plt.xlabel('Maximal depth of random forest')\n",
    "    plt.ylabel('Balanced accuracy')\n",
    "    plt.savefig(\"depthdiagr.png\",format=\"png\")\n",
    "    plt.show()\n",
    "\n",
    "if determine_best_minimum_number_of_leaf==True:\n",
    "    balanced_accuracy_forest=0.50\n",
    "    #determine best mnimum number of leafes\n",
    "    leafdiagr=pd.DataFrame(columns=['Minimum samples per leaf', 'Balanced accuracy'])\n",
    "    for minleaf in range (1,5):\n",
    "        forest=RandomForestClassifier(max_depth=bestmaximum_depth,min_samples_leaf=minleaf,class_weight=\"balanced\")\n",
    "        forest = forest.fit(x_train,y_train)\n",
    "        test_predict_forest=forest.predict(x_test)\n",
    "        balanced_accuracy_forestnew=balanced_accuracy_score(y_test, test_predict_forest)\n",
    "        new_line={'Minimum samples per leaf':minleaf, 'Balanced accuracy':balanced_accuracy_forestnew}\n",
    "        leafdiagr=leafdiagr.append(new_line, ignore_index=True)\n",
    "        if balanced_accuracy_forestnew>balanced_accuracy_forest:\n",
    "            bestminleaf=minleaf\n",
    "            balanced_accuracy_forest=balanced_accuracy_forestnew\n",
    "    print (\"Best Minimum samples per leaf:\", bestminleaf) \n",
    "\n",
    "    #plot diagram of best minleaf\n",
    "    plt.plot('Minimum samples per leaf', 'Balanced accuracy', data=leafdiagr,color='black')\n",
    "    plt.xlabel('Minimum samples per leaf')\n",
    "    plt.ylabel('Balanced accuracy')\n",
    "    plt.savefig(\"leafdiagr.png\",format=\"png\")\n",
    "    plt.show()\n",
    "# use decision tree and random forest classifier for predictions \n",
    "forest=RandomForestClassifier(max_depth=bestmaximum_depth,min_samples_leaf=bestminleaf,class_weight=\"balanced\")\n",
    "tree= DecisionTreeClassifier(max_depth=maximum_depth,class_weight=\"balanced\",min_samples_leaf=1)\n",
    "extratree=ExtraTreesClassifier(max_depth=maximum_depth,min_samples_leaf=1,class_weight=\"balanced\")\n",
    "# Train Decision Tree Classifer\n",
    "tree = tree.fit(x_train,y_train)\n",
    "forest = forest.fit(x_train,y_train)\n",
    "extratree = extratree.fit(x_train,y_train)\n",
    "\n",
    "#predict for test set\n",
    "test_predict=tree.predict(x_test)\n",
    "test_predict_forest=forest.predict(x_test)\n",
    "test_predictx=extratree.predict(x_test)\n",
    "\n",
    "#predict for complete set\n",
    "y_pred = forest.predict(x_data)\n",
    "completetable['prediction']=y_pred\n",
    "\n",
    "#calculate accuracy\n",
    "scores = cross_val_score(tree, x_data, y_data, cv=5, scoring='f1_macro')\n",
    "scoresf = cross_val_score(forest, x_data, y_data, cv=5, scoring='f1_macro')\n",
    "scoresx = cross_val_score(extratree, x_data, y_data, cv=5, scoring='f1_macro')\n",
    "balanced_accuracy=balanced_accuracy_score(y_test, test_predict)\n",
    "balanced_accuracy_forest=balanced_accuracy_score(y_test, test_predict_forest)\n",
    "balanced_accuracyx=balanced_accuracy_score(y_test, test_predictx)\n",
    "\n",
    "# creating a confusion matrix \n",
    "cm = multilabel_confusion_matrix(y_test, test_predict_forest)\n",
    "print(classification_report(y_test,test_predict_forest))\n",
    "\n",
    "#print all the scores\n",
    "print (\" \")\n",
    "print(\"Tree Score:\", tree.score(x_test, y_test))\n",
    "print (\"Tree Balanced Accuracy Score:\",balanced_accuracy)\n",
    "print (\"Crossvalidation scores tree:\",scores)\n",
    "print (\" \")\n",
    "print(\"Forest Score:\", forest.score(x_test, y_test))\n",
    "print (\"Forest Balanced Accuracy Score:\",balanced_accuracy_forest)\n",
    "print (\"Crossvalidation scores forest:\",scoresf)\n",
    "print (\" \")\n",
    "print(\"Extra tree score:\", extratree.score(x_test, y_test))\n",
    "print (\"Extra tree Balanced Accuracy Score:\",balanced_accuracyx)\n",
    "print (\"Crossvalidation scores Extra tree:\",scoresx)\n",
    "\n",
    "np.set_printoptions(precision=2)\n",
    "class_names=map(str, clusterlist)\n",
    "\n",
    "# Plot non-normalized confusion matrix\n",
    "titles_options = [(\"Confusion matrix, without normalization\", None),\n",
    "                  (\"Normalized confusion matrix\", 'true')]\n",
    "for title, normalize in titles_options:\n",
    "    disp = plot_confusion_matrix(forest, x_test, y_test,\n",
    "                                 display_labels=class_names,\n",
    "                                 cmap=plt.cm.Blues,\n",
    "                                 normalize=normalize)\n",
    "    disp.ax_.set_title(title)\n",
    "    disp.plot()\n",
    "    for labels in disp.text_.ravel():\n",
    "        labels.set_fontsize(10)\n",
    "    plt.figure(figsize=(15,8))\n",
    "    plt.savefig((\"confusionmatrix\"+str(normalize)+\".png\"), format=\"png\")\n",
    "    plt.show()\n",
    "\n",
    "#save trained classifier\n",
    "filename = foldernameoutput+'/decisiontreeclassifieronlynext.sav'\n",
    "pickle.dump(tree, open(filename, 'wb'))\n",
    "filename = foldernameoutput+'/forestclassifieronlynext.sav'\n",
    "pickle.dump(forest, open(filename, 'wb'))\n",
    "pathcompletetable=pathcompletetable[:-3]+\"_withprediciton.csv\"\n",
    "completetable.to_csv(pathcompletetable, index=False)"
   ]
  },
  {
   "cell_type": "code",
   "execution_count": null,
   "metadata": {},
   "outputs": [],
   "source": [
    "# Print confusion matrices"
   ]
  },
  {
   "cell_type": "code",
   "execution_count": 4,
   "metadata": {},
   "outputs": [
    {
     "name": "stdout",
     "output_type": "stream",
     "text": [
      "557 557\n"
     ]
    },
    {
     "name": "stderr",
     "output_type": "stream",
     "text": [
      "/home/friederike/anaconda3/envs/frida/lib/python3.9/site-packages/sklearn/utils/deprecation.py:87: FutureWarning: Function plot_confusion_matrix is deprecated; Function `plot_confusion_matrix` is deprecated in 1.0 and will be removed in 1.2. Use one of the class methods: ConfusionMatrixDisplay.from_predictions or ConfusionMatrixDisplay.from_estimator.\n",
      "  warnings.warn(msg, category=FutureWarning)\n"
     ]
    },
    {
     "data": {
      "image/png": "[encoded data removed]",
      "text/plain": [
       "<Figure size 432x288 with 2 Axes>"
      ]
     },
     "metadata": {
      "needs_background": "light"
     },
     "output_type": "display_data"
    },
    {
     "name": "stderr",
     "output_type": "stream",
     "text": [
      "/home/friederike/anaconda3/envs/frida/lib/python3.9/site-packages/sklearn/utils/deprecation.py:87: FutureWarning: Function plot_confusion_matrix is deprecated; Function `plot_confusion_matrix` is deprecated in 1.0 and will be removed in 1.2. Use one of the class methods: ConfusionMatrixDisplay.from_predictions or ConfusionMatrixDisplay.from_estimator.\n",
      "  warnings.warn(msg, category=FutureWarning)\n"
     ]
    },
    {
     "data": {
      "text/plain": [
       "<Figure size 432x288 with 0 Axes>"
      ]
     },
     "metadata": {},
     "output_type": "display_data"
    }
   ],
   "source": [
    "np.set_printoptions(precision=1)\n",
    "class_names=map(str, clusterlist)\n",
    "# Plot non-normalized confusion matrix\n",
    "titles_options = [\n",
    "                  (\"Normalized confusion matrix\", 'true'),(\"Confusion matrix, without normalization\", None),]\n",
    "\n",
    "fig, ax = plt.subplots() \n",
    "print (len(x_test),len(y_test))\n",
    "for title, normalize in titles_options:\n",
    "    disp = plot_confusion_matrix(forest, x_test, y_test,\n",
    "                                 display_labels=clusterlist,\n",
    "                                 cmap=plt.cm.Blues,\n",
    "                                 include_values=False,\n",
    "                                 \n",
    "                                 normalize=normalize,ax=ax)\n",
    "    disp.ax_.set_title(title)\n",
    "    plt.savefig((\"confusionmatrix\"+str(normalize)+\".png\"), format=\"png\")\n",
    "    plt.show()\n",
    "    "
   ]
  },
  {
   "cell_type": "markdown",
   "metadata": {},
   "source": [
    "# One vs all classifier for differentiated metrics"
   ]
  },
  {
   "cell_type": "code",
   "execution_count": 5,
   "metadata": {},
   "outputs": [
    {
     "name": "stderr",
     "output_type": "stream",
     "text": [
      "/home/friederike/anaconda3/envs/frida/lib/python3.9/site-packages/sklearn/multiclass.py:79: UserWarning: Label not 0 is present in all training examples.\n",
      "  warnings.warn(\n",
      "/home/friederike/anaconda3/envs/frida/lib/python3.9/site-packages/sklearn/metrics/_ranking.py:864: RuntimeWarning: invalid value encountered in true_divide\n",
      "  recall = tps / tps[-1]\n"
     ]
    },
    {
     "data": {
      "image/png": "[encoded data removed]",
      "text/plain": [
       "<Figure size 864x360 with 1 Axes>"
      ]
     },
     "metadata": {
      "needs_background": "light"
     },
     "output_type": "display_data"
    },
    {
     "name": "stderr",
     "output_type": "stream",
     "text": [
      "/home/friederike/anaconda3/envs/frida/lib/python3.9/site-packages/sklearn/metrics/_ranking.py:999: UndefinedMetricWarning: No positive samples in y_true, true positive value should be meaningless\n",
      "  warnings.warn(\n"
     ]
    },
    {
     "data": {
      "image/png": "[encoded data removed]",
      "text/plain": [
       "<Figure size 864x360 with 1 Axes>"
      ]
     },
     "metadata": {
      "needs_background": "light"
     },
     "output_type": "display_data"
    }
   ],
   "source": [
    "import sklearn\n",
    "import pandas as pd\n",
    "import pickle\n",
    "from sklearn.metrics import multilabel_confusion_matrix\n",
    "from sklearn import metrics\n",
    "from sklearn.model_selection import cross_val_score\n",
    "from sklearn.tree import DecisionTreeClassifier\n",
    "from sklearn.metrics import confusion_matrix\n",
    "from sklearn.feature_selection import mutual_info_classif\n",
    "from sklearn.ensemble import RandomForestClassifier\n",
    "from imblearn.over_sampling import RandomOverSampler\n",
    "from sklearn.metrics import precision_recall_curve\n",
    "from sklearn.metrics import plot_precision_recall_curve\n",
    "from sklearn.metrics import average_precision_score\n",
    "import matplotlib.pyplot as plt\n",
    "from sklearn.metrics import balanced_accuracy_score\n",
    "from sklearn.ensemble import ExtraTreesClassifier\n",
    "from sklearn.neural_network import MLPClassifier\n",
    "from sklearn.metrics import classification_report\n",
    "from sklearn.multiclass import OneVsRestClassifier\n",
    "from sklearn.metrics import precision_recall_curve, roc_curve\n",
    "from sklearn.preprocessing import label_binarize\n",
    "from sklearn.model_selection import train_test_split\n",
    "ros = RandomOverSampler(random_state=0)\n",
    "\n",
    "#define max depth of decision tree\n",
    "maxd=20\n",
    "pathcompletetable=\"neighbouring=4_threshold=20/Output/neighbouring=4_threshold=20_feature_matrix_without_duplicates_cluster_1-5__include_parts__without_sequence_motifs_.csv\"\n",
    "foldernameoutput=\"whole_dataset_neighbouring_threshold=20/Output1-5/\"\n",
    "completetable=pd.read_csv(pathcompletetable)\n",
    "completetable = completetable.sample(frac = 1) \n",
    "\n",
    "# define target and features\n",
    "#if you want wo run this multiple times, enable the following line! (otherwise \"prediciton\"will be used as a feature)\n",
    "#completetable.drop(columns=['prediction'],inplace=True)\n",
    "x_data = completetable.loc[:, completetable.columns != 'target' ]\n",
    "y_data = completetable['target']\n",
    "n_classes = len(set(y_data))\n",
    "Y = label_binarize(y_data, classes=[*range(n_classes)])\n",
    "\n",
    "X_train, X_test, y_train, y_test = train_test_split(x_data,\n",
    "                                                    Y,\n",
    "                                                    random_state = 42)\n",
    "clf = OneVsRestClassifier(RandomForestClassifier(n_estimators=50,\n",
    "                             max_depth=3,\n",
    "                             random_state=0))\n",
    "clf.fit(X_train, y_train)\n",
    "y_score = clf.predict_proba(X_test)\n",
    "\n",
    "# precision recall curve\n",
    "precision = dict()\n",
    "recall = dict()\n",
    "plt.figure(figsize=(12,5))\n",
    "for i in range(n_classes):\n",
    "    precision[i], recall[i], _ = precision_recall_curve(y_test[:, i], y_score[:, i])\n",
    "    plt.plot(recall[i], precision[i], lw=2, label='Class {}'.format(i+1))\n",
    "plt.xlabel(\"Recall\")\n",
    "plt.ylabel(\"Precision\")\n",
    "plt.legend(bbox_to_anchor=(1,1), loc=\"upper left\")\n",
    "plt.title(\"Precision vs. recall curve\")\n",
    "plt.savefig((\"precisionrecallferredoxinscurve_without_duplicates_include_parts__without_sequence_motifs_with_prediction.png\"), format=\"png\")\n",
    "plt.show()\n",
    "\n",
    "# roc curve\n",
    "fpr = dict()\n",
    "tpr = dict()\n",
    "plt.figure(figsize=(12,5))\n",
    "for i in range(0,n_classes):\n",
    "    fpr[i], tpr[i], _ = roc_curve(y_test[:, i],\n",
    "                                  y_score[:, i])\n",
    "    plt.plot(fpr[i], tpr[i], lw=2, label='Class {}'.format(i+1))\n",
    "plt.xlabel(\"False positive rate\")\n",
    "plt.ylabel(\"True positive rate\")\n",
    "plt.legend(bbox_to_anchor=(1,1), loc=\"upper left\")\n",
    "plt.title(\"ROC curve\")\n",
    "plt.savefig((\"ROC curve _without_duplicates_include_parts__without_sequence_motifs_with_prediction.png\"), format=\"png\")\n",
    "plt.show()"
   ]
  },
  {
   "cell_type": "markdown",
   "metadata": {},
   "source": [
    "# Analyse Tree"
   ]
  },
  {
   "cell_type": "markdown",
   "metadata": {},
   "source": [
    "adapted from https://scikit-learn.org/stable/auto_examples/inspection/plot_permutation_importance.html#sphx-glr-auto-examples-inspection-plot-permutation-importance-py"
   ]
  },
  {
   "cell_type": "code",
   "execution_count": 9,
   "metadata": {},
   "outputs": [
    {
     "data": {
      "image/png": "[encoded data removed]",
      "text/plain": [
       "<Figure size 432x288 with 1 Axes>"
      ]
     },
     "metadata": {
      "needs_background": "light"
     },
     "output_type": "display_data"
    },
    {
     "data": {
      "image/png": "[encoded data removed]",
      "text/plain": [
       "<Figure size 432x288 with 1 Axes>"
      ]
     },
     "metadata": {
      "needs_background": "light"
     },
     "output_type": "display_data"
    },
    {
     "data": {
      "text/plain": [
       "<Figure size 432x288 with 0 Axes>"
      ]
     },
     "metadata": {},
     "output_type": "display_data"
    }
   ],
   "source": [
    "import matplotlib.pyplot as plt\n",
    "import pickle\n",
    "import pandas as pd\n",
    "from sklearn.datasets import fetch_openml\n",
    "from sklearn.ensemble import RandomForestClassifier\n",
    "from sklearn.impute import SimpleImputer\n",
    "from sklearn.inspection import permutation_importance\n",
    "from sklearn.compose import ColumnTransformer\n",
    "from sklearn.model_selection import train_test_split\n",
    "from sklearn.pipeline import Pipeline\n",
    "from sklearn.preprocessing import OneHotEncoder\n",
    "from sklearn.model_selection import train_test_split\n",
    "\n",
    "#how many rows?\n",
    "rows=10\n",
    "#fill in correct file names\n",
    "foldernameoutput=\"neighbouring=4_threshold=20/Output1-5/\"\n",
    "filename = foldernameoutput+'/forestclassifieronlynext.sav'\n",
    "filenameout=foldernameoutput+\"/_include_parts_motifs_importances.txt\"\n",
    "fname=foldernameoutput+\"/_include_parts_motifs_importances.pdf\"\n",
    "hisname=foldernameoutput+\"/_include_parts_motifs_importanceshis.png\"\n",
    "pathcompletetable=\"neighbouring=4_threshold=20/Output/neighbouring=4_threshold=20_feature_matrix_without_duplicates_cluster_1-5__include_parts__without_sequence_motifs_._withprediciton.csv\"\n",
    "\n",
    "completetable=pd.read_csv(pathcompletetable)\n",
    "completetable.drop(columns=['prediction'],inplace=True)\n",
    "x_data = completetable.loc[:, completetable.columns != 'target' ]\n",
    "y_data = completetable['target']\n",
    "x_train, x_test, y_train, y_test = train_test_split(x_data, y_data ,test_size = 0.4, shuffle=True)\n",
    "forest = pickle.load(open(filename, 'rb')) \n",
    "feature_names=x_data.columns\n",
    "result = permutation_importance(forest, x_test, y_test, n_repeats=10,\n",
    "                               random_state=42, n_jobs=2)\n",
    "sorted_idx =(-result.importances_mean).argsort()\n",
    "labels=x_test.columns[sorted_idx]\n",
    "sorted_idx_fetched=sorted_idx[0:rows]\n",
    "fig, ax = plt.subplots()\n",
    "ax.boxplot(result.importances[sorted_idx_fetched].T,\n",
    "           vert=False,labels= labels[0:rows])\n",
    "ax.set_title(\"Permutation Importances (test set)\")\n",
    "fig.tight_layout()\n",
    "plt.show()\n",
    "\n",
    "with open(filenameout, 'w') as f:\n",
    "    for s in sorted_idx: \n",
    "        f.write(str(x_test.columns[s])+\",\"+ str(result.importances_mean[s]) +'\\n')\n",
    "fig.savefig(fname)\n",
    "\n",
    "# the histogram of the data\n",
    "n, bins, patches = plt.hist(result.importances_mean[sorted_idx], 50, density=True, facecolor='k', alpha=0.75)\n",
    "plt.xlabel('Importance')\n",
    "plt.ylabel('Ammount of Features')\n",
    "plt.title('Histogram of Importances')\n",
    "plt.grid(True)\n",
    "plt.show()\n",
    "plt.savefig(hisname)"
   ]
  },
  {
   "cell_type": "markdown",
   "metadata": {},
   "source": [
    "# Get all different amino acid motifs from easysequence motif and create prosite motif from them"
   ]
  },
  {
   "cell_type": "code",
   "execution_count": null,
   "metadata": {},
   "outputs": [],
   "source": [
    "def split(word):\n",
    "    return [char for char in word]\n",
    "motiflist=['rsnn', 'rata', 'bbpb', 'tnnn', 'snna', 'bbbp', 'trnn', 'ptrn', 'rabn',\n",
    "       'bsnn']\n",
    "for i in motiflist:\n",
    "    motif=i\n",
    "    motiflist=split(motif)\n",
    "    prosite=\"\"\n",
    "    for i in motiflist:\n",
    "        if i==\"a\":\n",
    "            prosite=prosite+\"[E/D]\"\n",
    "        if i==\"p\":\n",
    "            prosite=prosite+\"[S/T/N/Q]\"\n",
    "        if i==\"b\":\n",
    "            prosite=prosite+\"[K/R/H]\"\n",
    "        if i==\"r\":\n",
    "            prosite=prosite+\"[F/Y/W]\"\n",
    "        if i==\"s\":\n",
    "            prosite=prosite+\"C\"\n",
    "        if i==\"t\":\n",
    "            prosite=prosite+\"P\"\n",
    "        if i==\"n\":\n",
    "            prosite=prosite+\"[G/A/V/L/I/M]\"\n",
    "    print (motif, prosite)"
   ]
  },
  {
   "cell_type": "markdown",
   "metadata": {},
   "source": [
    "# Examination of single Sequence"
   ]
  },
  {
   "cell_type": "markdown",
   "metadata": {},
   "source": [
    "In this cell, sequences need to be alligned and precut at 92,192,275, and 395 and additionally at 54-66 and 375-392 of the referrence protein cytochrome P450 51  from Mycobacterium tuberculosis H2102 GenBank: KBE51585.1"
   ]
  },
  {
   "cell_type": "markdown",
   "metadata": {},
   "source": [
    "# Examine new data"
   ]
  },
  {
   "cell_type": "code",
   "execution_count": 2,
   "metadata": {},
   "outputs": [
    {
     "name": "stdout",
     "output_type": "stream",
     "text": [
      "!\n",
      "a\n",
      "a\n",
      "a\n",
      "a\n",
      "[]\n",
      "[]\n",
      "   aaabbegin  aaanbegin  aaapbegin  aaarbegin  aaasbegin  aaatbegin  \\\n",
      "0        0.0        0.0        0.0        0.0        0.0        0.0   \n",
      "1        0.0        0.0        0.0        0.0        0.0        0.0   \n",
      "2        0.0        0.0        0.0        0.0        0.0        0.0   \n",
      "3        0.0        0.0        0.0        0.0        0.0        0.0   \n",
      "\n",
      "   aabbbegin  aabnbegin  aabpbegin  aabrbegin  ...  ttspfes2  ttstfes2  \\\n",
      "0        0.0        0.0        0.0        0.0  ...       0.0       0.0   \n",
      "1        0.0        0.0        0.0        0.0  ...       0.0       0.0   \n",
      "2        0.0        0.0        0.0        0.0  ...       0.0       0.0   \n",
      "3        0.0        0.0        0.0        0.0  ...       0.0       0.0   \n",
      "\n",
      "   tttafes2  tttpfes2  ttttfes2  complete charge  mean acidic  mean basic  \\\n",
      "0       0.0       0.0       0.0            7.810     0.121636    0.189248   \n",
      "1       0.0       0.0       0.0          -19.651     0.122335    0.130842   \n",
      "2       0.0       0.0       0.0          -24.728     0.125634    0.147486   \n",
      "3       0.0       0.0       0.0          -24.322     0.121527    0.126324   \n",
      "\n",
      "   absolute acidic  absolute basic  \n",
      "0             65.0            92.0  \n",
      "1             65.0            59.0  \n",
      "2             76.0            65.0  \n",
      "3             74.0            58.0  \n",
      "\n",
      "[4 rows x 8797 columns]\n",
      "[1 2 1 1]\n",
      "[[0.1840663  0.08593497 0.16657813 0.09080107 0.07868716 0.05115838\n",
      "  0.03893248 0.06165272 0.08681818 0.06731042 0.03989984 0.03426096\n",
      "  0.01389939]\n",
      " [0.13729541 0.17738373 0.09076329 0.05344373 0.0664092  0.06093913\n",
      "  0.07049844 0.04812049 0.06423314 0.08449275 0.04033538 0.05033755\n",
      "  0.05574775]\n",
      " [0.19292364 0.13069835 0.09100615 0.09571109 0.0751245  0.04957673\n",
      "  0.03418171 0.07276631 0.06587662 0.06455206 0.03277425 0.03829227\n",
      "  0.05651632]\n",
      " [0.21263881 0.14430612 0.09085607 0.11705101 0.05831966 0.06082591\n",
      "  0.04415978 0.0398357  0.08241342 0.05781624 0.03767746 0.02364007\n",
      "  0.03045976]]\n"
     ]
    }
   ],
   "source": [
    "import Bio\n",
    "import pandas as pd\n",
    "from Bio import SeqIO\n",
    "from Bio import pairwise2\n",
    "from Bio.Seq import Seq\n",
    "import re\n",
    "import pickle\n",
    "import math\n",
    "import sys\n",
    "import itertools\n",
    "import sklearn\n",
    "import pandas as pd\n",
    "import pickle\n",
    "import numpy as np\n",
    "from sklearn.metrics import multilabel_confusion_matrix\n",
    "from sklearn import metrics\n",
    "from sklearn.model_selection import cross_val_score\n",
    "from sklearn.tree import DecisionTreeClassifier\n",
    "from sklearn.metrics import confusion_matrix\n",
    "from sklearn.feature_selection import mutual_info_classif\n",
    "from sklearn.ensemble import RandomForestClassifier\n",
    "from imblearn.over_sampling import RandomOverSampler\n",
    "from sklearn.metrics import precision_recall_curve\n",
    "from sklearn.metrics import plot_precision_recall_curve\n",
    "from sklearn.metrics import average_precision_score\n",
    "from sklearn.metrics import plot_confusion_matrix\n",
    "import matplotlib.pyplot as plt\n",
    "from sklearn.metrics import balanced_accuracy_score\n",
    "from sklearn.ensemble import ExtraTreesClassifier\n",
    "from sklearn.neural_network import MLPClassifier\n",
    "from sklearn.metrics import classification_report\n",
    "from sklearn.multiclass import OneVsRestClassifier\n",
    "from sklearn.metrics import precision_recall_curve, roc_curve\n",
    "from sklearn.preprocessing import label_binarize\n",
    "from sklearn import svm\n",
    "import numpy as np\n",
    "include_parts= False\n",
    "# fill in names of files here!\n",
    "foldernameoutput=\"Output\"\n",
    "name_testsequence=\"Fasta/Ferredoxinsirinpak/sirinterpene.fasta\"\n",
    "filename_permutations=foldernameoutput+\"/permutations.txt\"\n",
    "classifier=foldernameoutput+'/forestclassifieronlynext.sav'\n",
    "forest = pickle.load(open(classifier, 'rb')) \n",
    "filename_index=foldernameoutput+\"/index.txt\"\n",
    "with open(filename_index, 'r') as f:\n",
    "    index = [line.rstrip('\\n') for line in f]\n",
    "\n",
    "# S#14703] cytochrome P450 51 Cyp51 ([P#10800] [CYP51] cytochrome P450, family 51 )  from https://cyped.biocatnet.de/sequence/14703\n",
    "alignmentfa=(\"MSAVALPRVSGGHDEHGHLEEFRTDPIGLMQRVRDECGDVGTFQLAGKQVVLLSGSHANEFFFRAGDDDLDQAKAYPFMTPIFGEGVVFDASPERRKEMLHNAALRGEQMKGHAATIEDQVRRMIADWGEAGEIDLLDFFAELTIYTSSACLIGKKFRDQLDGRFAKLYHELERGTDPLAYVDPYLPIESLRRRDEARNGLVALVADIMNGRIANPPTDKSDRDMLDVLIAVKAETGTPRFSADEITGMFISMMFAGHHTSSGTASWTLIELMRHRDAYAAVIDELDELYGDGRSVSFHLRQIPQLENVLKETLRLHPPLIILMRVAKGEFEVQGHRIHEGDLVAASPAISNRIPEDFPDPHDFVPARYEQPRQEDLLNRWTWIPFGAGRHRCVGAAFAIMQIKAIFSVLLREYEFEMAQPPESYRNDHSKMVVQLAQPACVRYRRRTGV\")\n",
    "fragments=(\"begin\",\"sbr1\",\"sbr2\",\"core\",\"end\",\"fes1\",\"fes2\")\n",
    "with open(filename_permutations, 'r') as f:\n",
    "    permutations = [line.rstrip('\\n') for line in f]\n",
    "def charge(sequence):\n",
    "    AACharge = {\"C\":-.045,\"D\":-.999,  \"E\":-.998,\"H\":.091,\"K\":1,\"R\":1,\"Y\":-.001}\n",
    "    charge = -0.002\n",
    "    seqstr=str(sequence)\n",
    "    seqlist=list(seqstr)\n",
    "    for aa in seqlist:\n",
    "        if aa in AACharge:\n",
    "            charge += AACharge[aa]\n",
    "    return charge\n",
    "def find_between( s, first, last ):\n",
    "    try:\n",
    "        start = s.index( first ) + len( first )\n",
    "        end = s.index( last, start )\n",
    "        return s[start:end]\n",
    "    except ValueError:\n",
    "        return \"\"\n",
    "def easysequence (sequence):\n",
    "    #creates a string out of the sequence file, that only states if AA is acidic (a), basic (b), polar (p), neutral/unpolar (n),aromatic (r),Cystein (s) or a Prolin (t)\n",
    "    seqstr=str(sequence)\n",
    "    seqlist=list(seqstr)\n",
    "    a=0\n",
    "    easylist=[]\n",
    "    for i in seqlist:\n",
    "        if i == 'E' or i== 'D':           \n",
    "            easylist=easylist+['a']\n",
    "        if i == 'K' or i=='R' or i=='H':      \n",
    "            easylist=easylist+['b']\n",
    "        if i == 'S' or i=='T' or i=='N' or i=='Q':\n",
    "            easylist=easylist+['p']\n",
    "        if i == 'F' or i=='Y' or i=='W':\n",
    "            easylist=easylist+['r']\n",
    "        if i == 'C':\n",
    "            easylist=easylist+['s']\n",
    "        if i == 'P':\n",
    "            easylist=easylist+['t']\n",
    "        if i == 'G' or i=='A' or i=='V' or i=='L' or i=='I' or i=='M':\n",
    "            easylist=easylist+['n']\n",
    "            \n",
    "    seperator=''\n",
    "    easysequence=seperator.join(easylist)\n",
    "    return easysequence\n",
    "def merge_two_dicts(x, y):\n",
    "    z = x.copy()   # start with x's keys and values\n",
    "    z.update(y)    # modifies z with y's keys and values & returns None\n",
    "    return z        \n",
    "\n",
    "# creates tables\n",
    "testsequence=pd.DataFrame()\n",
    "\n",
    "for f in fragments:\n",
    "    for i in permutations:\n",
    "        n=i+f\n",
    "        testsequence[n]=[]\n",
    "#getting Data for p450 associated with terpenes\n",
    "for seq_record in SeqIO.parse(name_testsequence, \"fasta\"):\n",
    "    print (\"a\")\n",
    "    # Very expensive to open a gap in seq1:\n",
    "    nogaps = lambda x, y: -2000 - y\n",
    "    specificgaps = lambda x, y: (-2 - y)\n",
    "\n",
    "    alignments = pairwise2.align.globalmc(alignmentfa,  seq_record.seq, 1, -1, nogaps, specificgaps)\n",
    "\n",
    "\n",
    "    seqa=find_between(str(alignments[0]),\"seqA='\",\"'\").replace(\"-\",\"\")\n",
    "    \n",
    "    seqb=find_between(str(alignments[0]),\"seqB='\",\"'\")\n",
    "\n",
    "    #begin\n",
    "    for match in re.finditer(\"MSAVALPRVSGGHDEHGHLEEFRTDPIGLMQRVRDECGDVGTFQLAGKQVVLLSGSHANEFFFRAGDDDLDQAKAYPFMTPIFGEGVVFDAS\",seqa):\n",
    "                            end=match.span()[1]\n",
    "    begbne=seqb[:end+1].replace(\"-\",\"\")\n",
    "    begb=easysequence(seqb[:end+1].replace(\"-\",\"\"))\n",
    "\n",
    "    #sbr1\n",
    "    for match in re.finditer(\"PERRKEMLHNAALRGEQMKGHAATIEDQVRRMIADWGEAGEIDLLDFFAELTIYTSSACLIGKKFRDQLDGRFAKLYHELERGTDPLAYVDPYLPIESLRRRDEARNGLVALVADIMNGRIANPPTDKSDRDMLDVLIAVKAETGTPRFSADEITGMFISMMFAGHHTSSGTASWTLIELMRH\",seqa):\n",
    "            begin= match.span()[0]                \n",
    "            end=match.span()[1]\n",
    "    sbr1bne=seqb[begin-1:end+1].replace(\"-\",\"\")\n",
    "    sbr1b=easysequence(seqb[begin-1:end+1].replace(\"-\",\"\"))\n",
    "\n",
    "    #sbr2\n",
    "    for match in re.finditer(\"RRDEARNGLVALVADIMNGRIANPPTDKSDRDMLDVLIAVKAETGTPRFSADEITGMFISMMFAGHHTSSGTASWTLIELMRH\",seqa):\n",
    "            begin= match.span()[0]                 \n",
    "            end=match.span()[1]\n",
    "    sbr2bne=seqb[begin-1:end+1].replace(\"-\",\"\")\n",
    "    sbr2b=easysequence(seqb[begin-1:end+1].replace(\"-\",\"\"))\n",
    "\n",
    "    #core\n",
    "    for match in re.finditer(\"RDAYAAVIDELDELYGDGRSVSFHLRQIPQLENVLKETLRLHPPLIILMRVAKGEFEVQGHRIHEGDLVAASPAISNRIPEDFPDPHDFVPARYEQPRQEDLLNRWTWIPFGAGRHRCV\",seqa):\n",
    "            begin= match.span()[0] \n",
    "            end=match.span()[1]\n",
    "    corebne=seqb[begin-1:end+1].replace(\"-\",\"\")\n",
    "    coreb=easysequence(seqb[begin-1:end+1].replace(\"-\",\"\"))\n",
    "    endbne=seqb[end+1:].replace(\"-\",\"\")\n",
    "    endb= easysequence(seqb[end+1:].replace(\"-\",\"\"))\n",
    "    \n",
    "    #fes1\n",
    "    begin=54 \n",
    "    end=66\n",
    "    fes1bne=seqb[begin-1:end+1].replace(\"-\",\"\") \n",
    "    fes1b=easysequence(seqb[begin-1:end+1].replace(\"-\",\"\"))\n",
    "    \n",
    "    #fes2\n",
    "    for match in re.finditer(\"QEDLLNRWTWIPFGAGRH\",seqa):\n",
    "            begin= match.span()[0] \n",
    "            end=match.span()[1]\n",
    "    fes2bne=seqb[begin-1:end+1].replace(\"-\",\"\")\n",
    "    fes2b=easysequence(seqb[begin-1:end+1].replace(\"-\",\"\"))\n",
    "    \n",
    "    listfragmentsalt=(begb,sbr1b,sbr2b,coreb,endb,fes1b,fes2b)\n",
    "    nealt=(begbne,sbr1bne,sbr2bne,corebne,endbne,fes1bne,fes2bne)\n",
    "    easyseq=easysequence(seq_record.seq)\n",
    "    new_row={}\n",
    "    c=0\n",
    "    listfragments=[]\n",
    "    ne=[]\n",
    "    for frag in listfragmentsalt:\n",
    "        if frag=='':\n",
    "            listfragments.append(\"n\")\n",
    "        else:\n",
    "            listfragments.append(frag)\n",
    "    for frag in nealt:       \n",
    "        if frag=='':\n",
    "            ne.append(\"A\")\n",
    "        else:\n",
    "            ne.append(frag)\n",
    "    for frag in listfragments:\n",
    "        f=fragments[c]\n",
    "        for i in permutations:\n",
    "            n=i+f\n",
    "            new_row =merge_two_dicts(new_row,{n:frag.count(i)})\n",
    "        a=f+\"acidic\"\n",
    "        new_row =merge_two_dicts(new_row,{a:(frag.count(\"a\")/len(frag))})\n",
    "        aabs=f+\"acidic absolute\"\n",
    "        new_row =merge_two_dicts(new_row,{aabs:(frag.count(\"a\"))})\n",
    "        char=f+\"charge\"\n",
    "        new_row =merge_two_dicts(new_row,{char:charge(ne[c])})\n",
    "        b=f+\"basic\"\n",
    "        babs=f+\"basic absolute\"\n",
    "        new_row =merge_two_dicts(new_row,{b:(frag.count(\"b\")/len(frag))})\n",
    "        new_row =merge_two_dicts(new_row,{babs:(frag.count(\"b\"))})\n",
    "        if include_parts==True:\n",
    "            if f==\"fes1\" or f==\"begin\" or f== \"end\":\n",
    "                how_many_parts=4\n",
    "            else:\n",
    "                how_many_parts=3\n",
    "            each_part_length = math.ceil(len(frag)/how_many_parts)\n",
    "            iterator = [iter(frag)] * each_part_length\n",
    "            parts = list(itertools.zip_longest(*iterator, fillvalue='X'))\n",
    "            for i in range (0,len(parts)):\n",
    "                    part=f+\"acidic\"+ str(i)\n",
    "                    par=parts[i]\n",
    "                    new_row =merge_two_dicts(new_row,{part:(par.count(\"a\")/(len(par)+1))})\n",
    "                    part=f+\"basic\"+ str(i)\n",
    "                    par=parts[i]\n",
    "                    new_row =merge_two_dicts(new_row,{part:(par.count(\"b\")/(len(par)+1))})\n",
    "            if len(parts)<3:\n",
    "                for dif in range ((len(parts)),4):\n",
    "                    part=f+\"acidic\"+ str(dif)\n",
    "                    new_row =merge_two_dicts(new_row,{part:0})\n",
    "                    part=f+\"basic\"+ str(dif)\n",
    "                    new_row =merge_two_dicts(new_row,{part:0})\n",
    "        c=c+1  \n",
    "    testsequence = testsequence.append(new_row, ignore_index=True)\n",
    "    chargerows=[]\n",
    "    acidicrows=[]\n",
    "    basicrows=[]\n",
    "    absacidicrows=[]\n",
    "    absbasicrows=[]\n",
    "    for f in fragments:\n",
    "        chargerows.append(str(f)+\"charge\")\n",
    "        acidicrows.append(str(f)+\"acidic\")\n",
    "        basicrows.append(str(f)+\"basic\")\n",
    "        absacidicrows.append(str(f)+\"acidic absolute\")\n",
    "        absbasicrows.append(str(f)+\"basic absolute\")\n",
    "    testsequence['complete charge']=testsequence[chargerows].sum(axis=1)\n",
    "    testsequence['mean acidic']=testsequence[acidicrows].mean(axis=1)  \n",
    "    testsequence['mean basic']=testsequence[basicrows].mean(axis=1)  \n",
    "    testsequence['absolute acidic']=testsequence[absacidicrows].sum(axis=1)  \n",
    "    testsequence['absolute basic']=testsequence[absbasicrows].sum(axis=1)\n",
    "    testsequence = testsequence.replace('NaN', np.nan).fillna(0)\n",
    "    \n",
    "foldernameoutput=\"/home/friederike/Dokumente/Diplom/Work Friederike/Frankfurt/p450Project/Terpenep450ML/Ferredoxinp450ML/trainingsset final/CLuster lists\"\n",
    "pathcompletetable=foldernameoutput+\"/tablep450onlynext.csv\"\n",
    "# fill in names of files here!\n",
    "completetable=pd.read_csv(pathcompletetable)\n",
    "completetable.drop(columns=['target'],inplace=True)\n",
    "print (np.setdiff1d(testsequence.columns.values,completetable.columns.values))\n",
    "print (np.setdiff1d(completetable.columns.values,testsequence.columns.values))\n",
    "completetable=testsequence.reindex(columns=completetable.columns.values).fillna(0)\n",
    "print (completetable)\n",
    "test_predictf=forest.predict(completetable)\n",
    "print (test_predictf)\n",
    "# prediciton probability\n",
    "y_score = forest.predict_proba(completetable)\n",
    "print (y_score)"
   ]
  }
 ],
 "metadata": {
  "kernelspec": {
   "display_name": "Python 3",
   "language": "python",
   "name": "python3"
  },
  "language_info": {
   "codemirror_mode": {
    "name": "ipython",
    "version": 3
   },
   "file_extension": ".py",
   "mimetype": "text/x-python",
   "name": "python",
   "nbconvert_exporter": "python",
   "pygments_lexer": "ipython3",
   "version": "3.8.5"
  }
 },
 "nbformat": 4,
 "nbformat_minor": 4
}
